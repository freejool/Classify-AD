{
 "cells": [
  {
   "cell_type": "code",
   "execution_count": 1,
   "metadata": {},
   "outputs": [],
   "source": [
    "import scipy.io as sc\n",
    "import numpy as np\n",
    "\n"
   ]
  },
  {
   "cell_type": "code",
   "execution_count": 2,
   "metadata": {},
   "outputs": [],
   "source": [
    "data = np.zeros([102, 4])\n",
    "with open('test.csv', 'r') as f:\n",
    "    data = np.loadtxt(f, delimiter=\",\")\n",
    "chars = data[:,0:3]\n",
    "labels = data[:,3]\n"
   ]
  },
  {
   "cell_type": "code",
   "execution_count": null,
   "metadata": {},
   "outputs": [
    {
     "ename": "",
     "evalue": "",
     "output_type": "error",
     "traceback": [
      "\u001b[1;31mRunning cells with 'Python 3.10.4 ('venv': venv)' requires ipykernel package.\n",
      "Run the following command to install 'ipykernel' into the Python environment. \n",
      "Command: 'c:/Users/Sxing/Develop/Classify-AD/venv/Scripts/python.exe -m pip install ipykernel -U --force-reinstall'"
     ]
    }
   ],
   "source": [
    "mat['X']"
   ]
  },
  {
   "cell_type": "markdown",
   "metadata": {},
   "source": [
    "[source](https://github.com/lawlite19/MachineLearning_Python)\n",
    "\n",
    "data_digits.mat:\n",
    "\n",
    "'X':参数矩阵。行数==样本数，列数==特征数。\n",
    "\n",
    "'y':标签向量。行数==样本数。\n",
    "\n",
    "predict.csv:\n",
    "\n",
    "第0列: 预测结果\n",
    "\n",
    "第1列: 实际类型"
   ]
  }
 ],
 "metadata": {
  "interpreter": {
   "hash": "b93e5ddd53473cedd0d7ea0422217658d78cdfed165df6ada245dd112892fdba"
  },
  "kernelspec": {
   "display_name": "Python 3.7.9 ('venv': venv)",
   "language": "python",
   "name": "python3"
  },
  "language_info": {
   "codemirror_mode": {
    "name": "ipython",
    "version": 3
   },
   "file_extension": ".py",
   "mimetype": "text/x-python",
   "name": "python",
   "nbconvert_exporter": "python",
   "pygments_lexer": "ipython3",
   "version": "3.9.12"
  },
  "orig_nbformat": 4
 },
 "nbformat": 4,
 "nbformat_minor": 2
}
